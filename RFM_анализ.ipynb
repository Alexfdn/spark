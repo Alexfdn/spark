{
 "cells": [
  {
   "cell_type": "code",
   "execution_count": 1,
   "id": "2e142d8b-3229-4888-8d55-f940da2879fd",
   "metadata": {},
   "outputs": [],
   "source": [
    "import pandas as pd\n",
    "excel_file = \"/home/jovyan/work/online_retail.xlsx\"\n",
    "\n",
    "df = pd.read_excel(excel_file)\n",
    "\n",
    "csv_file = \"/home/jovyan/work/online_retail.csv\"\n",
    "\n",
    "df.to_csv(csv_file, index=False)"
   ]
  },
  {
   "cell_type": "code",
   "execution_count": 2,
   "id": "6d90a106-5709-4e04-8dd5-cbec2c9f57a7",
   "metadata": {},
   "outputs": [],
   "source": [
    "from pyspark.sql import SparkSession\n",
    "\n",
    "# Create SparkSession \n",
    "spark = SparkSession.builder \\\n",
    "      .master(\"local[1]\") \\\n",
    "      .appName(\"SparkFirst\") \\\n",
    "      .getOrCreate() "
   ]
  },
  {
   "cell_type": "code",
   "execution_count": 3,
   "id": "001217f0-2245-4caf-b870-0bbf96640f63",
   "metadata": {},
   "outputs": [],
   "source": [
    "from pyspark.sql import functions as f"
   ]
  },
  {
   "cell_type": "code",
   "execution_count": 4,
   "id": "590fdb23-c7b1-4995-adf6-92419c09bb5c",
   "metadata": {},
   "outputs": [],
   "source": [
    "df = spark.read.csv(csv_file, header=True, inferSchema=True)\n"
   ]
  },
  {
   "cell_type": "code",
   "execution_count": 5,
   "id": "7d7f6e36-9a3f-4588-88b0-4943fb832ef7",
   "metadata": {},
   "outputs": [
    {
     "name": "stdout",
     "output_type": "stream",
     "text": [
      "+---------+---------+--------------------+--------+-------------------+---------+----------+--------------+\n",
      "|InvoiceNo|StockCode|         Description|Quantity|        InvoiceDate|UnitPrice|CustomerID|       Country|\n",
      "+---------+---------+--------------------+--------+-------------------+---------+----------+--------------+\n",
      "|   536365|   85123A|WHITE HANGING HEA...|       6|2010-12-01 08:26:00|     2.55|   17850.0|United Kingdom|\n",
      "|   536365|    71053| WHITE METAL LANTERN|       6|2010-12-01 08:26:00|     3.39|   17850.0|United Kingdom|\n",
      "|   536365|   84406B|CREAM CUPID HEART...|       8|2010-12-01 08:26:00|     2.75|   17850.0|United Kingdom|\n",
      "|   536365|   84029G|KNITTED UNION FLA...|       6|2010-12-01 08:26:00|     3.39|   17850.0|United Kingdom|\n",
      "|   536365|   84029E|RED WOOLLY HOTTIE...|       6|2010-12-01 08:26:00|     3.39|   17850.0|United Kingdom|\n",
      "|   536365|    22752|SET 7 BABUSHKA NE...|       2|2010-12-01 08:26:00|     7.65|   17850.0|United Kingdom|\n",
      "|   536365|    21730|GLASS STAR FROSTE...|       6|2010-12-01 08:26:00|     4.25|   17850.0|United Kingdom|\n",
      "|   536366|    22633|HAND WARMER UNION...|       6|2010-12-01 08:28:00|     1.85|   17850.0|United Kingdom|\n",
      "|   536366|    22632|HAND WARMER RED P...|       6|2010-12-01 08:28:00|     1.85|   17850.0|United Kingdom|\n",
      "|   536367|    84879|ASSORTED COLOUR B...|      32|2010-12-01 08:34:00|     1.69|   13047.0|United Kingdom|\n",
      "|   536367|    22745|POPPY'S PLAYHOUSE...|       6|2010-12-01 08:34:00|      2.1|   13047.0|United Kingdom|\n",
      "|   536367|    22748|POPPY'S PLAYHOUSE...|       6|2010-12-01 08:34:00|      2.1|   13047.0|United Kingdom|\n",
      "|   536367|    22749|FELTCRAFT PRINCES...|       8|2010-12-01 08:34:00|     3.75|   13047.0|United Kingdom|\n",
      "|   536367|    22310|IVORY KNITTED MUG...|       6|2010-12-01 08:34:00|     1.65|   13047.0|United Kingdom|\n",
      "|   536367|    84969|BOX OF 6 ASSORTED...|       6|2010-12-01 08:34:00|     4.25|   13047.0|United Kingdom|\n",
      "|   536367|    22623|BOX OF VINTAGE JI...|       3|2010-12-01 08:34:00|     4.95|   13047.0|United Kingdom|\n",
      "|   536367|    22622|BOX OF VINTAGE AL...|       2|2010-12-01 08:34:00|     9.95|   13047.0|United Kingdom|\n",
      "|   536367|    21754|HOME BUILDING BLO...|       3|2010-12-01 08:34:00|     5.95|   13047.0|United Kingdom|\n",
      "|   536367|    21755|LOVE BUILDING BLO...|       3|2010-12-01 08:34:00|     5.95|   13047.0|United Kingdom|\n",
      "|   536367|    21777|RECIPE BOX WITH M...|       4|2010-12-01 08:34:00|     7.95|   13047.0|United Kingdom|\n",
      "+---------+---------+--------------------+--------+-------------------+---------+----------+--------------+\n",
      "only showing top 20 rows\n",
      "\n"
     ]
    }
   ],
   "source": [
    "df.show()"
   ]
  },
  {
   "cell_type": "code",
   "execution_count": 44,
   "id": "5c8cdbd2-f0cc-47b6-8db2-f470625d2d80",
   "metadata": {},
   "outputs": [
    {
     "data": {
      "text/plain": [
       "541909"
      ]
     },
     "execution_count": 44,
     "metadata": {},
     "output_type": "execute_result"
    }
   ],
   "source": [
    "# общее число строк\n",
    "df.count()"
   ]
  },
  {
   "cell_type": "code",
   "execution_count": 69,
   "id": "f5943658-3023-40ad-ac2f-db1f86883101",
   "metadata": {},
   "outputs": [
    {
     "data": {
      "text/plain": [
       "4373"
      ]
     },
     "execution_count": 69,
     "metadata": {},
     "output_type": "execute_result"
    }
   ],
   "source": [
    "# Количество уникальных клиентов\n",
    "df_customer = df.groupBy('CustomerID').count().count()\n",
    "df_customer"
   ]
  },
  {
   "cell_type": "code",
   "execution_count": 111,
   "id": "e74a691d-a707-4387-83c0-760ada65ac43",
   "metadata": {},
   "outputs": [
    {
     "name": "stdout",
     "output_type": "stream",
     "text": [
      "+--------------+\n",
      "|       Country|\n",
      "+--------------+\n",
      "|United Kingdom|\n",
      "+--------------+\n",
      "\n"
     ]
    }
   ],
   "source": [
    "# В какой стране совершается большинство покупок\n",
    "df_country = df.groupBy('Country').count()\n",
    "df_country.select('Country').filter(col('count')== df_country.agg(f.max('count')).collect()[0][0]).show()"
   ]
  },
  {
   "cell_type": "code",
   "execution_count": 115,
   "id": "73bd8e83-a305-45f3-87a3-27a4e82ef98e",
   "metadata": {},
   "outputs": [
    {
     "name": "stdout",
     "output_type": "stream",
     "text": [
      "+-------------------+-------------------+\n",
      "|           min_data|           max_data|\n",
      "+-------------------+-------------------+\n",
      "|2010-12-01 08:26:00|2011-12-09 12:50:00|\n",
      "+-------------------+-------------------+\n",
      "\n"
     ]
    }
   ],
   "source": [
    "# Даты самой ранней и самой последней покупки на платформе\n",
    "df.agg(f.min('InvoiceDate').alias('min_data'), f.max('InvoiceDate').alias('max_data')).show()"
   ]
  },
  {
   "cell_type": "code",
   "execution_count": null,
   "id": "11cf7559-0b3f-4222-887a-6147265e88aa",
   "metadata": {},
   "outputs": [],
   "source": [
    "# RFM-анализ\n",
    "df_group = df.groupBy('CustomerID').agg(f.max('InvoiceDate').alias('max_data'))\n",
    "df_group.select('CustomerID').show()"
   ]
  },
  {
   "cell_type": "code",
   "execution_count": 96,
   "id": "5509d02e-463a-4ef7-bb3e-17938b03ca69",
   "metadata": {},
   "outputs": [],
   "source": [
    "df.createOrReplaceTempView(\"retail\")\n",
    "RFM = spark.sql(\"SELECT *, CONCAT_WS('', Frequency_value, Recency_value, Monetary_value) AS sum_value \\\n",
    "        FROM(SELECT CustomerID, Frequency, Recency, Monetary, \\\n",
    "            CASE  \\\n",
    "                WHEN Frequency < 100 THEN 'C' \\\n",
    "                WHEN Frequency >= 100 AND Frequency < 200 THEN 'B' \\\n",
    "                WHEN  Frequency >= 200 THEN 'A' \\\n",
    "            END AS Frequency_value, \\\n",
    "            CASE  \\\n",
    "                WHEN Recency < 4300 THEN 'A' \\\n",
    "                WHEN Recency >= 4300 AND Recency < 4400 THEN 'B' \\\n",
    "                WHEN Recency >= 4400 THEN 'C' \\\n",
    "            END AS Recency_value, \\\n",
    "            CASE  \\\n",
    "                WHEN Monetary < 100 THEN 'C' \\\n",
    "                WHEN Monetary >= 100 AND Monetary < 300 THEN 'B' \\\n",
    "                WHEN Monetary >= 300 THEN 'A' \\\n",
    "            END AS Monetary_value \\\n",
    "            FROM( SELECT datediff(current_date(),MAX(InvoiceDate)) AS Recency, \\\n",
    "                    COUNT(InvoiceNo) AS Frequency, SUM(UnitPrice) AS Monetary, CustomerID  \\\n",
    "                FROM retail GROUP BY CustomerID))\")\n"
   ]
  },
  {
   "cell_type": "code",
   "execution_count": 97,
   "id": "e7eb5fc7-ad5a-4424-b3f0-c0121770cd4b",
   "metadata": {},
   "outputs": [
    {
     "name": "stdout",
     "output_type": "stream",
     "text": [
      "+----------+---------+-------+------------------+---------------+-------------+--------------+---------+\n",
      "|CustomerID|Frequency|Recency|          Monetary|Frequency_value|Recency_value|Monetary_value|sum_value|\n",
      "+----------+---------+-------+------------------+---------------+-------------+--------------+---------+\n",
      "|   16916.0|      143|   4312| 317.5199999999999|              B|            B|             A|      BBA|\n",
      "|   17884.0|      117|   4292| 224.1699999999998|              B|            A|             B|      BAB|\n",
      "|   13094.0|       30|   4310|             38.31|              C|            B|             C|      CBC|\n",
      "|   16596.0|       12|   4304| 49.24999999999999|              C|            B|             C|      CBC|\n",
      "|   17633.0|       72|   4320|206.32000000000008|              C|            B|             B|      CBB|\n",
      "|   18114.0|       28|   4579|154.95000000000002|              C|            C|             B|      CCB|\n",
      "|   13973.0|       11|   4576|             41.32|              C|            C|             C|      CCC|\n",
      "|   14473.0|        7|   4363|             28.75|              C|            B|             C|      CBC|\n",
      "|   13956.0|      152|   4294| 520.2499999999995|              B|            A|             A|      BAA|\n",
      "|   13533.0|       76|   4471|            146.93|              C|            C|             B|      CCB|\n",
      "|   13918.0|       30|   4338|             65.56|              C|            B|             C|      CBC|\n",
      "|   12493.0|       23|   4454|111.75000000000001|              C|            C|             B|      CCB|\n",
      "|   14285.0|       27|   4310|130.14999999999998|              C|            B|             B|      CBB|\n",
      "|   15776.0|       18|   4422|             75.31|              C|            C|             C|      CCC|\n",
      "|   14768.0|        6|   4306|              22.5|              C|            B|             C|      CBC|\n",
      "|   17267.0|       38|   4416|            129.25|              C|            C|             B|      CCB|\n",
      "|   14024.0|       16|   4410|             59.22|              C|            C|             C|      CCC|\n",
      "|   16629.0|       64|   4362|156.98999999999998|              C|            B|             B|      CBB|\n",
      "|   14452.0|       62|   4299|            193.92|              C|            A|             B|      CAB|\n",
      "|   16561.0|       31|   4294| 88.61000000000001|              C|            A|             C|      CAC|\n",
      "+----------+---------+-------+------------------+---------------+-------------+--------------+---------+\n",
      "only showing top 20 rows\n",
      "\n"
     ]
    }
   ],
   "source": [
    "RFM.show()"
   ]
  },
  {
   "cell_type": "code",
   "execution_count": 99,
   "id": "7c2fcf4d-1988-4ff1-8f77-121d2b390c1e",
   "metadata": {},
   "outputs": [],
   "source": [
    "RFM.createOrReplaceTempView('rfm')\n",
    "load_customer = spark.sql(\"SELECT CustomerID FROM rfm WHERE sum_value = 'AAA'\")"
   ]
  },
  {
   "cell_type": "code",
   "execution_count": 102,
   "id": "7cd456c0-68c2-46b7-a47d-6649ec13a65d",
   "metadata": {},
   "outputs": [],
   "source": [
    "load_customer.write \\\n",
    "    .format(\"csv\") \\\n",
    "    .option(\"header\", \"true\") \\\n",
    "    .save(\"/home/jovyan/work/customer_id_1.csv\")"
   ]
  },
  {
   "cell_type": "code",
   "execution_count": null,
   "id": "508508f0-3eee-4cd1-a82f-60f5d2352f4e",
   "metadata": {},
   "outputs": [],
   "source": []
  }
 ],
 "metadata": {
  "kernelspec": {
   "display_name": "Python 3 (ipykernel)",
   "language": "python",
   "name": "python3"
  },
  "language_info": {
   "codemirror_mode": {
    "name": "ipython",
    "version": 3
   },
   "file_extension": ".py",
   "mimetype": "text/x-python",
   "name": "python",
   "nbconvert_exporter": "python",
   "pygments_lexer": "ipython3",
   "version": "3.11.5"
  }
 },
 "nbformat": 4,
 "nbformat_minor": 5
}
